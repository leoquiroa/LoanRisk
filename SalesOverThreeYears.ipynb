{
  "nbformat": 4,
  "nbformat_minor": 0,
  "metadata": {
    "colab": {
      "name": "SalesOverThreeYears.ipynb",
      "provenance": [],
      "include_colab_link": true
    },
    "kernelspec": {
      "name": "python3",
      "display_name": "Python 3"
    }
  },
  "cells": [
    {
      "cell_type": "markdown",
      "metadata": {
        "id": "view-in-github",
        "colab_type": "text"
      },
      "source": [
        "<a href=\"https://colab.research.google.com/github/leoquiroa/LoanRisk/blob/master/SalesOverThreeYears.ipynb\" target=\"_parent\"><img src=\"https://colab.research.google.com/assets/colab-badge.svg\" alt=\"Open In Colab\"/></a>"
      ]
    },
    {
      "cell_type": "code",
      "metadata": {
        "id": "7_9DUh62LJ73",
        "colab_type": "code",
        "colab": {}
      },
      "source": [
        "# essentials\n",
        "import numpy as np \n",
        "import pandas as pd \n",
        "\n",
        "# visualizations\n",
        "import matplotlib.pyplot as plt\n",
        "import seaborn as sns\n",
        "\n",
        "# time series algorithm\n",
        "from fbprophet import Prophet\n",
        "from fbprophet.diagnostics import performance_metrics\n",
        "\n",
        "# reproducibility\n",
        "np.random.seed(34)\n",
        "\n",
        "# Jupyter magic\n",
        "%reload_ext autoreload\n",
        "%autoreload 2\n",
        "%matplotlib inline\n",
        "\n",
        "sns.set()"
      ],
      "execution_count": 0,
      "outputs": []
    },
    {
      "cell_type": "code",
      "metadata": {
        "id": "Bzz-mDzTUJb_",
        "colab_type": "code",
        "outputId": "46c6cfc6-d0c3-467b-e4a3-d987930186e2",
        "colab": {
          "base_uri": "https://localhost:8080/",
          "height": 1000
        }
      },
      "source": [
        "url = 'https://raw.githubusercontent.com/leoquiroa/Prophet/master/sales-of-shampoo-over-a-three-ye.csv'\n",
        "df_shampoo_orig = pd.read_csv(url, \n",
        "                              nrows=36,\n",
        "                              skiprows = 1, \n",
        "                              names = ['ds', 'y'], \n",
        "                              parse_dates = True )\n",
        "df = df_shampoo_orig\n",
        "df"
      ],
      "execution_count": 0,
      "outputs": [
        {
          "output_type": "execute_result",
          "data": {
            "text/html": [
              "<div>\n",
              "<style scoped>\n",
              "    .dataframe tbody tr th:only-of-type {\n",
              "        vertical-align: middle;\n",
              "    }\n",
              "\n",
              "    .dataframe tbody tr th {\n",
              "        vertical-align: top;\n",
              "    }\n",
              "\n",
              "    .dataframe thead th {\n",
              "        text-align: right;\n",
              "    }\n",
              "</style>\n",
              "<table border=\"1\" class=\"dataframe\">\n",
              "  <thead>\n",
              "    <tr style=\"text-align: right;\">\n",
              "      <th></th>\n",
              "      <th>ds</th>\n",
              "      <th>y</th>\n",
              "    </tr>\n",
              "  </thead>\n",
              "  <tbody>\n",
              "    <tr>\n",
              "      <th>0</th>\n",
              "      <td>1-01</td>\n",
              "      <td>266.0</td>\n",
              "    </tr>\n",
              "    <tr>\n",
              "      <th>1</th>\n",
              "      <td>1-02</td>\n",
              "      <td>145.9</td>\n",
              "    </tr>\n",
              "    <tr>\n",
              "      <th>2</th>\n",
              "      <td>1-03</td>\n",
              "      <td>183.1</td>\n",
              "    </tr>\n",
              "    <tr>\n",
              "      <th>3</th>\n",
              "      <td>1-04</td>\n",
              "      <td>119.3</td>\n",
              "    </tr>\n",
              "    <tr>\n",
              "      <th>4</th>\n",
              "      <td>1-05</td>\n",
              "      <td>180.3</td>\n",
              "    </tr>\n",
              "    <tr>\n",
              "      <th>5</th>\n",
              "      <td>1-06</td>\n",
              "      <td>168.5</td>\n",
              "    </tr>\n",
              "    <tr>\n",
              "      <th>6</th>\n",
              "      <td>1-07</td>\n",
              "      <td>231.8</td>\n",
              "    </tr>\n",
              "    <tr>\n",
              "      <th>7</th>\n",
              "      <td>1-08</td>\n",
              "      <td>224.5</td>\n",
              "    </tr>\n",
              "    <tr>\n",
              "      <th>8</th>\n",
              "      <td>1-09</td>\n",
              "      <td>192.8</td>\n",
              "    </tr>\n",
              "    <tr>\n",
              "      <th>9</th>\n",
              "      <td>1-10</td>\n",
              "      <td>122.9</td>\n",
              "    </tr>\n",
              "    <tr>\n",
              "      <th>10</th>\n",
              "      <td>1-11</td>\n",
              "      <td>336.5</td>\n",
              "    </tr>\n",
              "    <tr>\n",
              "      <th>11</th>\n",
              "      <td>1-12</td>\n",
              "      <td>185.9</td>\n",
              "    </tr>\n",
              "    <tr>\n",
              "      <th>12</th>\n",
              "      <td>2-01</td>\n",
              "      <td>194.3</td>\n",
              "    </tr>\n",
              "    <tr>\n",
              "      <th>13</th>\n",
              "      <td>2-02</td>\n",
              "      <td>149.5</td>\n",
              "    </tr>\n",
              "    <tr>\n",
              "      <th>14</th>\n",
              "      <td>2-03</td>\n",
              "      <td>210.1</td>\n",
              "    </tr>\n",
              "    <tr>\n",
              "      <th>15</th>\n",
              "      <td>2-04</td>\n",
              "      <td>273.3</td>\n",
              "    </tr>\n",
              "    <tr>\n",
              "      <th>16</th>\n",
              "      <td>2-05</td>\n",
              "      <td>191.4</td>\n",
              "    </tr>\n",
              "    <tr>\n",
              "      <th>17</th>\n",
              "      <td>2-06</td>\n",
              "      <td>287.0</td>\n",
              "    </tr>\n",
              "    <tr>\n",
              "      <th>18</th>\n",
              "      <td>2-07</td>\n",
              "      <td>226.0</td>\n",
              "    </tr>\n",
              "    <tr>\n",
              "      <th>19</th>\n",
              "      <td>2-08</td>\n",
              "      <td>303.6</td>\n",
              "    </tr>\n",
              "    <tr>\n",
              "      <th>20</th>\n",
              "      <td>2-09</td>\n",
              "      <td>289.9</td>\n",
              "    </tr>\n",
              "    <tr>\n",
              "      <th>21</th>\n",
              "      <td>2-10</td>\n",
              "      <td>421.6</td>\n",
              "    </tr>\n",
              "    <tr>\n",
              "      <th>22</th>\n",
              "      <td>2-11</td>\n",
              "      <td>264.5</td>\n",
              "    </tr>\n",
              "    <tr>\n",
              "      <th>23</th>\n",
              "      <td>2-12</td>\n",
              "      <td>342.3</td>\n",
              "    </tr>\n",
              "    <tr>\n",
              "      <th>24</th>\n",
              "      <td>3-01</td>\n",
              "      <td>339.7</td>\n",
              "    </tr>\n",
              "    <tr>\n",
              "      <th>25</th>\n",
              "      <td>3-02</td>\n",
              "      <td>440.4</td>\n",
              "    </tr>\n",
              "    <tr>\n",
              "      <th>26</th>\n",
              "      <td>3-03</td>\n",
              "      <td>315.9</td>\n",
              "    </tr>\n",
              "    <tr>\n",
              "      <th>27</th>\n",
              "      <td>3-04</td>\n",
              "      <td>439.3</td>\n",
              "    </tr>\n",
              "    <tr>\n",
              "      <th>28</th>\n",
              "      <td>3-05</td>\n",
              "      <td>401.3</td>\n",
              "    </tr>\n",
              "    <tr>\n",
              "      <th>29</th>\n",
              "      <td>3-06</td>\n",
              "      <td>437.4</td>\n",
              "    </tr>\n",
              "    <tr>\n",
              "      <th>30</th>\n",
              "      <td>3-07</td>\n",
              "      <td>575.5</td>\n",
              "    </tr>\n",
              "    <tr>\n",
              "      <th>31</th>\n",
              "      <td>3-08</td>\n",
              "      <td>407.6</td>\n",
              "    </tr>\n",
              "    <tr>\n",
              "      <th>32</th>\n",
              "      <td>3-09</td>\n",
              "      <td>682.0</td>\n",
              "    </tr>\n",
              "    <tr>\n",
              "      <th>33</th>\n",
              "      <td>3-10</td>\n",
              "      <td>475.3</td>\n",
              "    </tr>\n",
              "    <tr>\n",
              "      <th>34</th>\n",
              "      <td>3-11</td>\n",
              "      <td>581.3</td>\n",
              "    </tr>\n",
              "    <tr>\n",
              "      <th>35</th>\n",
              "      <td>3-12</td>\n",
              "      <td>646.9</td>\n",
              "    </tr>\n",
              "  </tbody>\n",
              "</table>\n",
              "</div>"
            ],
            "text/plain": [
              "      ds      y\n",
              "0   1-01  266.0\n",
              "1   1-02  145.9\n",
              "2   1-03  183.1\n",
              "3   1-04  119.3\n",
              "4   1-05  180.3\n",
              "5   1-06  168.5\n",
              "6   1-07  231.8\n",
              "7   1-08  224.5\n",
              "8   1-09  192.8\n",
              "9   1-10  122.9\n",
              "10  1-11  336.5\n",
              "11  1-12  185.9\n",
              "12  2-01  194.3\n",
              "13  2-02  149.5\n",
              "14  2-03  210.1\n",
              "15  2-04  273.3\n",
              "16  2-05  191.4\n",
              "17  2-06  287.0\n",
              "18  2-07  226.0\n",
              "19  2-08  303.6\n",
              "20  2-09  289.9\n",
              "21  2-10  421.6\n",
              "22  2-11  264.5\n",
              "23  2-12  342.3\n",
              "24  3-01  339.7\n",
              "25  3-02  440.4\n",
              "26  3-03  315.9\n",
              "27  3-04  439.3\n",
              "28  3-05  401.3\n",
              "29  3-06  437.4\n",
              "30  3-07  575.5\n",
              "31  3-08  407.6\n",
              "32  3-09  682.0\n",
              "33  3-10  475.3\n",
              "34  3-11  581.3\n",
              "35  3-12  646.9"
            ]
          },
          "metadata": {
            "tags": []
          },
          "execution_count": 8
        }
      ]
    },
    {
      "cell_type": "markdown",
      "metadata": {
        "id": "kesTedOoZV7p",
        "colab_type": "text"
      },
      "source": [
        "Add prefix '198'"
      ]
    },
    {
      "cell_type": "code",
      "metadata": {
        "id": "nKNazLMsTaqT",
        "colab_type": "code",
        "outputId": "765466aa-9cc8-4603-aada-3bcc666097d8",
        "colab": {
          "base_uri": "https://localhost:8080/",
          "height": 129
        }
      },
      "source": [
        "df['ds'] = df.ds.apply(lambda x: \"198\"+x)\n",
        "df.ds.head()"
      ],
      "execution_count": 0,
      "outputs": [
        {
          "output_type": "execute_result",
          "data": {
            "text/plain": [
              "0    1981-01\n",
              "1    1981-02\n",
              "2    1981-03\n",
              "3    1981-04\n",
              "4    1981-05\n",
              "Name: ds, dtype: object"
            ]
          },
          "metadata": {
            "tags": []
          },
          "execution_count": 9
        }
      ]
    },
    {
      "cell_type": "code",
      "metadata": {
        "id": "Hp0Td1bMUcnx",
        "colab_type": "code",
        "outputId": "16e81ef6-65d3-48d0-be51-9a24d883b7d2",
        "colab": {
          "base_uri": "https://localhost:8080/",
          "height": 206
        }
      },
      "source": [
        "df.head()"
      ],
      "execution_count": 0,
      "outputs": [
        {
          "output_type": "execute_result",
          "data": {
            "text/html": [
              "<div>\n",
              "<style scoped>\n",
              "    .dataframe tbody tr th:only-of-type {\n",
              "        vertical-align: middle;\n",
              "    }\n",
              "\n",
              "    .dataframe tbody tr th {\n",
              "        vertical-align: top;\n",
              "    }\n",
              "\n",
              "    .dataframe thead th {\n",
              "        text-align: right;\n",
              "    }\n",
              "</style>\n",
              "<table border=\"1\" class=\"dataframe\">\n",
              "  <thead>\n",
              "    <tr style=\"text-align: right;\">\n",
              "      <th></th>\n",
              "      <th>ds</th>\n",
              "      <th>y</th>\n",
              "    </tr>\n",
              "  </thead>\n",
              "  <tbody>\n",
              "    <tr>\n",
              "      <th>0</th>\n",
              "      <td>1981-01</td>\n",
              "      <td>266.0</td>\n",
              "    </tr>\n",
              "    <tr>\n",
              "      <th>1</th>\n",
              "      <td>1981-02</td>\n",
              "      <td>145.9</td>\n",
              "    </tr>\n",
              "    <tr>\n",
              "      <th>2</th>\n",
              "      <td>1981-03</td>\n",
              "      <td>183.1</td>\n",
              "    </tr>\n",
              "    <tr>\n",
              "      <th>3</th>\n",
              "      <td>1981-04</td>\n",
              "      <td>119.3</td>\n",
              "    </tr>\n",
              "    <tr>\n",
              "      <th>4</th>\n",
              "      <td>1981-05</td>\n",
              "      <td>180.3</td>\n",
              "    </tr>\n",
              "  </tbody>\n",
              "</table>\n",
              "</div>"
            ],
            "text/plain": [
              "        ds      y\n",
              "0  1981-01  266.0\n",
              "1  1981-02  145.9\n",
              "2  1981-03  183.1\n",
              "3  1981-04  119.3\n",
              "4  1981-05  180.3"
            ]
          },
          "metadata": {
            "tags": []
          },
          "execution_count": 10
        }
      ]
    },
    {
      "cell_type": "markdown",
      "metadata": {
        "id": "KyUAwvZwZbzh",
        "colab_type": "text"
      },
      "source": [
        "Add last day of the month"
      ]
    },
    {
      "cell_type": "code",
      "metadata": {
        "id": "vYa8WCU1Tty4",
        "colab_type": "code",
        "colab": {}
      },
      "source": [
        "df['ds']=pd.to_datetime(df['ds'])+pd.tseries.offsets.MonthEnd(0)"
      ],
      "execution_count": 0,
      "outputs": []
    },
    {
      "cell_type": "code",
      "metadata": {
        "id": "QAsMwCTrUhnY",
        "colab_type": "code",
        "outputId": "90335bf7-6f35-4dc6-baee-005041f52a00",
        "colab": {
          "base_uri": "https://localhost:8080/",
          "height": 206
        }
      },
      "source": [
        "df.head()"
      ],
      "execution_count": 0,
      "outputs": [
        {
          "output_type": "execute_result",
          "data": {
            "text/html": [
              "<div>\n",
              "<style scoped>\n",
              "    .dataframe tbody tr th:only-of-type {\n",
              "        vertical-align: middle;\n",
              "    }\n",
              "\n",
              "    .dataframe tbody tr th {\n",
              "        vertical-align: top;\n",
              "    }\n",
              "\n",
              "    .dataframe thead th {\n",
              "        text-align: right;\n",
              "    }\n",
              "</style>\n",
              "<table border=\"1\" class=\"dataframe\">\n",
              "  <thead>\n",
              "    <tr style=\"text-align: right;\">\n",
              "      <th></th>\n",
              "      <th>ds</th>\n",
              "      <th>y</th>\n",
              "    </tr>\n",
              "  </thead>\n",
              "  <tbody>\n",
              "    <tr>\n",
              "      <th>0</th>\n",
              "      <td>1981-01-31</td>\n",
              "      <td>266.0</td>\n",
              "    </tr>\n",
              "    <tr>\n",
              "      <th>1</th>\n",
              "      <td>1981-02-28</td>\n",
              "      <td>145.9</td>\n",
              "    </tr>\n",
              "    <tr>\n",
              "      <th>2</th>\n",
              "      <td>1981-03-31</td>\n",
              "      <td>183.1</td>\n",
              "    </tr>\n",
              "    <tr>\n",
              "      <th>3</th>\n",
              "      <td>1981-04-30</td>\n",
              "      <td>119.3</td>\n",
              "    </tr>\n",
              "    <tr>\n",
              "      <th>4</th>\n",
              "      <td>1981-05-31</td>\n",
              "      <td>180.3</td>\n",
              "    </tr>\n",
              "  </tbody>\n",
              "</table>\n",
              "</div>"
            ],
            "text/plain": [
              "          ds      y\n",
              "0 1981-01-31  266.0\n",
              "1 1981-02-28  145.9\n",
              "2 1981-03-31  183.1\n",
              "3 1981-04-30  119.3\n",
              "4 1981-05-31  180.3"
            ]
          },
          "metadata": {
            "tags": []
          },
          "execution_count": 12
        }
      ]
    },
    {
      "cell_type": "markdown",
      "metadata": {
        "id": "Y39Gzb52ZfXU",
        "colab_type": "text"
      },
      "source": [
        "Split train/test data 66%.\n",
        "Train = 1981 and 1982.\n",
        "Test = 1983.\n"
      ]
    },
    {
      "cell_type": "code",
      "metadata": {
        "id": "25NlsrXbUpbn",
        "colab_type": "code",
        "outputId": "8cbddbc1-4d5a-4418-fd70-b0a3478fce9b",
        "colab": {
          "base_uri": "https://localhost:8080/",
          "height": 802
        }
      },
      "source": [
        "train = df[:24]\n",
        "train"
      ],
      "execution_count": 0,
      "outputs": [
        {
          "output_type": "execute_result",
          "data": {
            "text/html": [
              "<div>\n",
              "<style scoped>\n",
              "    .dataframe tbody tr th:only-of-type {\n",
              "        vertical-align: middle;\n",
              "    }\n",
              "\n",
              "    .dataframe tbody tr th {\n",
              "        vertical-align: top;\n",
              "    }\n",
              "\n",
              "    .dataframe thead th {\n",
              "        text-align: right;\n",
              "    }\n",
              "</style>\n",
              "<table border=\"1\" class=\"dataframe\">\n",
              "  <thead>\n",
              "    <tr style=\"text-align: right;\">\n",
              "      <th></th>\n",
              "      <th>ds</th>\n",
              "      <th>y</th>\n",
              "    </tr>\n",
              "  </thead>\n",
              "  <tbody>\n",
              "    <tr>\n",
              "      <th>0</th>\n",
              "      <td>1981-01-31</td>\n",
              "      <td>266.0</td>\n",
              "    </tr>\n",
              "    <tr>\n",
              "      <th>1</th>\n",
              "      <td>1981-02-28</td>\n",
              "      <td>145.9</td>\n",
              "    </tr>\n",
              "    <tr>\n",
              "      <th>2</th>\n",
              "      <td>1981-03-31</td>\n",
              "      <td>183.1</td>\n",
              "    </tr>\n",
              "    <tr>\n",
              "      <th>3</th>\n",
              "      <td>1981-04-30</td>\n",
              "      <td>119.3</td>\n",
              "    </tr>\n",
              "    <tr>\n",
              "      <th>4</th>\n",
              "      <td>1981-05-31</td>\n",
              "      <td>180.3</td>\n",
              "    </tr>\n",
              "    <tr>\n",
              "      <th>5</th>\n",
              "      <td>1981-06-30</td>\n",
              "      <td>168.5</td>\n",
              "    </tr>\n",
              "    <tr>\n",
              "      <th>6</th>\n",
              "      <td>1981-07-31</td>\n",
              "      <td>231.8</td>\n",
              "    </tr>\n",
              "    <tr>\n",
              "      <th>7</th>\n",
              "      <td>1981-08-31</td>\n",
              "      <td>224.5</td>\n",
              "    </tr>\n",
              "    <tr>\n",
              "      <th>8</th>\n",
              "      <td>1981-09-30</td>\n",
              "      <td>192.8</td>\n",
              "    </tr>\n",
              "    <tr>\n",
              "      <th>9</th>\n",
              "      <td>1981-10-31</td>\n",
              "      <td>122.9</td>\n",
              "    </tr>\n",
              "    <tr>\n",
              "      <th>10</th>\n",
              "      <td>1981-11-30</td>\n",
              "      <td>336.5</td>\n",
              "    </tr>\n",
              "    <tr>\n",
              "      <th>11</th>\n",
              "      <td>1981-12-31</td>\n",
              "      <td>185.9</td>\n",
              "    </tr>\n",
              "    <tr>\n",
              "      <th>12</th>\n",
              "      <td>1982-01-31</td>\n",
              "      <td>194.3</td>\n",
              "    </tr>\n",
              "    <tr>\n",
              "      <th>13</th>\n",
              "      <td>1982-02-28</td>\n",
              "      <td>149.5</td>\n",
              "    </tr>\n",
              "    <tr>\n",
              "      <th>14</th>\n",
              "      <td>1982-03-31</td>\n",
              "      <td>210.1</td>\n",
              "    </tr>\n",
              "    <tr>\n",
              "      <th>15</th>\n",
              "      <td>1982-04-30</td>\n",
              "      <td>273.3</td>\n",
              "    </tr>\n",
              "    <tr>\n",
              "      <th>16</th>\n",
              "      <td>1982-05-31</td>\n",
              "      <td>191.4</td>\n",
              "    </tr>\n",
              "    <tr>\n",
              "      <th>17</th>\n",
              "      <td>1982-06-30</td>\n",
              "      <td>287.0</td>\n",
              "    </tr>\n",
              "    <tr>\n",
              "      <th>18</th>\n",
              "      <td>1982-07-31</td>\n",
              "      <td>226.0</td>\n",
              "    </tr>\n",
              "    <tr>\n",
              "      <th>19</th>\n",
              "      <td>1982-08-31</td>\n",
              "      <td>303.6</td>\n",
              "    </tr>\n",
              "    <tr>\n",
              "      <th>20</th>\n",
              "      <td>1982-09-30</td>\n",
              "      <td>289.9</td>\n",
              "    </tr>\n",
              "    <tr>\n",
              "      <th>21</th>\n",
              "      <td>1982-10-31</td>\n",
              "      <td>421.6</td>\n",
              "    </tr>\n",
              "    <tr>\n",
              "      <th>22</th>\n",
              "      <td>1982-11-30</td>\n",
              "      <td>264.5</td>\n",
              "    </tr>\n",
              "    <tr>\n",
              "      <th>23</th>\n",
              "      <td>1982-12-31</td>\n",
              "      <td>342.3</td>\n",
              "    </tr>\n",
              "  </tbody>\n",
              "</table>\n",
              "</div>"
            ],
            "text/plain": [
              "           ds      y\n",
              "0  1981-01-31  266.0\n",
              "1  1981-02-28  145.9\n",
              "2  1981-03-31  183.1\n",
              "3  1981-04-30  119.3\n",
              "4  1981-05-31  180.3\n",
              "5  1981-06-30  168.5\n",
              "6  1981-07-31  231.8\n",
              "7  1981-08-31  224.5\n",
              "8  1981-09-30  192.8\n",
              "9  1981-10-31  122.9\n",
              "10 1981-11-30  336.5\n",
              "11 1981-12-31  185.9\n",
              "12 1982-01-31  194.3\n",
              "13 1982-02-28  149.5\n",
              "14 1982-03-31  210.1\n",
              "15 1982-04-30  273.3\n",
              "16 1982-05-31  191.4\n",
              "17 1982-06-30  287.0\n",
              "18 1982-07-31  226.0\n",
              "19 1982-08-31  303.6\n",
              "20 1982-09-30  289.9\n",
              "21 1982-10-31  421.6\n",
              "22 1982-11-30  264.5\n",
              "23 1982-12-31  342.3"
            ]
          },
          "metadata": {
            "tags": []
          },
          "execution_count": 37
        }
      ]
    },
    {
      "cell_type": "code",
      "metadata": {
        "id": "6SUef3FDZihI",
        "colab_type": "code",
        "outputId": "35430503-3755-4135-d3bf-85cbfcab7f40",
        "colab": {
          "base_uri": "https://localhost:8080/",
          "height": 426
        }
      },
      "source": [
        "test = df[24:]\n",
        "test"
      ],
      "execution_count": 0,
      "outputs": [
        {
          "output_type": "execute_result",
          "data": {
            "text/html": [
              "<div>\n",
              "<style scoped>\n",
              "    .dataframe tbody tr th:only-of-type {\n",
              "        vertical-align: middle;\n",
              "    }\n",
              "\n",
              "    .dataframe tbody tr th {\n",
              "        vertical-align: top;\n",
              "    }\n",
              "\n",
              "    .dataframe thead th {\n",
              "        text-align: right;\n",
              "    }\n",
              "</style>\n",
              "<table border=\"1\" class=\"dataframe\">\n",
              "  <thead>\n",
              "    <tr style=\"text-align: right;\">\n",
              "      <th></th>\n",
              "      <th>ds</th>\n",
              "      <th>y</th>\n",
              "    </tr>\n",
              "  </thead>\n",
              "  <tbody>\n",
              "    <tr>\n",
              "      <th>24</th>\n",
              "      <td>1983-01-31</td>\n",
              "      <td>339.7</td>\n",
              "    </tr>\n",
              "    <tr>\n",
              "      <th>25</th>\n",
              "      <td>1983-02-28</td>\n",
              "      <td>440.4</td>\n",
              "    </tr>\n",
              "    <tr>\n",
              "      <th>26</th>\n",
              "      <td>1983-03-31</td>\n",
              "      <td>315.9</td>\n",
              "    </tr>\n",
              "    <tr>\n",
              "      <th>27</th>\n",
              "      <td>1983-04-30</td>\n",
              "      <td>439.3</td>\n",
              "    </tr>\n",
              "    <tr>\n",
              "      <th>28</th>\n",
              "      <td>1983-05-31</td>\n",
              "      <td>401.3</td>\n",
              "    </tr>\n",
              "    <tr>\n",
              "      <th>29</th>\n",
              "      <td>1983-06-30</td>\n",
              "      <td>437.4</td>\n",
              "    </tr>\n",
              "    <tr>\n",
              "      <th>30</th>\n",
              "      <td>1983-07-31</td>\n",
              "      <td>575.5</td>\n",
              "    </tr>\n",
              "    <tr>\n",
              "      <th>31</th>\n",
              "      <td>1983-08-31</td>\n",
              "      <td>407.6</td>\n",
              "    </tr>\n",
              "    <tr>\n",
              "      <th>32</th>\n",
              "      <td>1983-09-30</td>\n",
              "      <td>682.0</td>\n",
              "    </tr>\n",
              "    <tr>\n",
              "      <th>33</th>\n",
              "      <td>1983-10-31</td>\n",
              "      <td>475.3</td>\n",
              "    </tr>\n",
              "    <tr>\n",
              "      <th>34</th>\n",
              "      <td>1983-11-30</td>\n",
              "      <td>581.3</td>\n",
              "    </tr>\n",
              "    <tr>\n",
              "      <th>35</th>\n",
              "      <td>1983-12-31</td>\n",
              "      <td>646.9</td>\n",
              "    </tr>\n",
              "  </tbody>\n",
              "</table>\n",
              "</div>"
            ],
            "text/plain": [
              "           ds      y\n",
              "24 1983-01-31  339.7\n",
              "25 1983-02-28  440.4\n",
              "26 1983-03-31  315.9\n",
              "27 1983-04-30  439.3\n",
              "28 1983-05-31  401.3\n",
              "29 1983-06-30  437.4\n",
              "30 1983-07-31  575.5\n",
              "31 1983-08-31  407.6\n",
              "32 1983-09-30  682.0\n",
              "33 1983-10-31  475.3\n",
              "34 1983-11-30  581.3\n",
              "35 1983-12-31  646.9"
            ]
          },
          "metadata": {
            "tags": []
          },
          "execution_count": 36
        }
      ]
    },
    {
      "cell_type": "markdown",
      "metadata": {
        "id": "1RRgxjEhXkh_",
        "colab_type": "text"
      },
      "source": [
        "## ORDER 5"
      ]
    },
    {
      "cell_type": "code",
      "metadata": {
        "id": "aW-ACfXvU22Q",
        "colab_type": "code",
        "outputId": "ca4df80c-c4ab-4b11-c848-07b67e042d4a",
        "colab": {
          "base_uri": "https://localhost:8080/",
          "height": 93
        }
      },
      "source": [
        "m = Prophet(\n",
        "    weekly_seasonality=False, \n",
        "    daily_seasonality=False, \n",
        "    n_changepoints=2)\n",
        "m.add_seasonality(\n",
        "    name='yearly', \n",
        "    period=12, \n",
        "    fourier_order=5)\n",
        "m.fit(train)"
      ],
      "execution_count": 0,
      "outputs": [
        {
          "output_type": "stream",
          "text": [
            "INFO:numexpr.utils:NumExpr defaulting to 2 threads.\n",
            "INFO:fbprophet:Found custom seasonality named \"yearly\", disabling built-in yearly seasonality.\n"
          ],
          "name": "stderr"
        },
        {
          "output_type": "execute_result",
          "data": {
            "text/plain": [
              "<fbprophet.forecaster.Prophet at 0x7f1dc93ef898>"
            ]
          },
          "metadata": {
            "tags": []
          },
          "execution_count": 14
        }
      ]
    },
    {
      "cell_type": "code",
      "metadata": {
        "id": "c45Y6xAiVBWS",
        "colab_type": "code",
        "outputId": "22bb3e86-2094-4c1e-c072-6bddfd6db10a",
        "colab": {
          "base_uri": "https://localhost:8080/",
          "height": 206
        }
      },
      "source": [
        "future = m.make_future_dataframe(periods=12, freq='M')\n",
        "forecast = m.predict(future)\n",
        "forecast[['ds', 'yhat', 'yhat_lower', 'yhat_upper']].head()"
      ],
      "execution_count": 0,
      "outputs": [
        {
          "output_type": "execute_result",
          "data": {
            "text/html": [
              "<div>\n",
              "<style scoped>\n",
              "    .dataframe tbody tr th:only-of-type {\n",
              "        vertical-align: middle;\n",
              "    }\n",
              "\n",
              "    .dataframe tbody tr th {\n",
              "        vertical-align: top;\n",
              "    }\n",
              "\n",
              "    .dataframe thead th {\n",
              "        text-align: right;\n",
              "    }\n",
              "</style>\n",
              "<table border=\"1\" class=\"dataframe\">\n",
              "  <thead>\n",
              "    <tr style=\"text-align: right;\">\n",
              "      <th></th>\n",
              "      <th>ds</th>\n",
              "      <th>yhat</th>\n",
              "      <th>yhat_lower</th>\n",
              "      <th>yhat_upper</th>\n",
              "    </tr>\n",
              "  </thead>\n",
              "  <tbody>\n",
              "    <tr>\n",
              "      <th>0</th>\n",
              "      <td>1981-01-31</td>\n",
              "      <td>208.757376</td>\n",
              "      <td>170.541303</td>\n",
              "      <td>246.025853</td>\n",
              "    </tr>\n",
              "    <tr>\n",
              "      <th>1</th>\n",
              "      <td>1981-02-28</td>\n",
              "      <td>137.660185</td>\n",
              "      <td>100.871899</td>\n",
              "      <td>177.664807</td>\n",
              "    </tr>\n",
              "    <tr>\n",
              "      <th>2</th>\n",
              "      <td>1981-03-31</td>\n",
              "      <td>195.288067</td>\n",
              "      <td>157.200300</td>\n",
              "      <td>237.901947</td>\n",
              "    </tr>\n",
              "    <tr>\n",
              "      <th>3</th>\n",
              "      <td>1981-04-30</td>\n",
              "      <td>128.287889</td>\n",
              "      <td>88.548232</td>\n",
              "      <td>168.446387</td>\n",
              "    </tr>\n",
              "    <tr>\n",
              "      <th>4</th>\n",
              "      <td>1981-05-31</td>\n",
              "      <td>231.320220</td>\n",
              "      <td>192.198564</td>\n",
              "      <td>272.065631</td>\n",
              "    </tr>\n",
              "  </tbody>\n",
              "</table>\n",
              "</div>"
            ],
            "text/plain": [
              "          ds        yhat  yhat_lower  yhat_upper\n",
              "0 1981-01-31  208.757376  170.541303  246.025853\n",
              "1 1981-02-28  137.660185  100.871899  177.664807\n",
              "2 1981-03-31  195.288067  157.200300  237.901947\n",
              "3 1981-04-30  128.287889   88.548232  168.446387\n",
              "4 1981-05-31  231.320220  192.198564  272.065631"
            ]
          },
          "metadata": {
            "tags": []
          },
          "execution_count": 21
        }
      ]
    },
    {
      "cell_type": "code",
      "metadata": {
        "id": "iqppYtTJVI6P",
        "colab_type": "code",
        "outputId": "8ce40a43-e210-4231-a584-8581e417423c",
        "colab": {
          "base_uri": "https://localhost:8080/",
          "height": 437
        }
      },
      "source": [
        "figure = m.plot(forecast)"
      ],
      "execution_count": 0,
      "outputs": [
        {
          "output_type": "display_data",
          "data": {
            "image/png": "[encoded data removed]",
            "text/plain": [
              "<Figure size 720x432 with 1 Axes>"
            ]
          },
          "metadata": {
            "tags": []
          }
        }
      ]
    },
    {
      "cell_type": "code",
      "metadata": {
        "id": "C-MFveY7VilQ",
        "colab_type": "code",
        "outputId": "553526a3-5a4c-4aa7-88a5-a75ba3c6e1de",
        "colab": {
          "base_uri": "https://localhost:8080/",
          "height": 226
        }
      },
      "source": [
        "forecast.head()"
      ],
      "execution_count": 0,
      "outputs": [
        {
          "output_type": "execute_result",
          "data": {
            "text/html": [
              "<div>\n",
              "<style scoped>\n",
              "    .dataframe tbody tr th:only-of-type {\n",
              "        vertical-align: middle;\n",
              "    }\n",
              "\n",
              "    .dataframe tbody tr th {\n",
              "        vertical-align: top;\n",
              "    }\n",
              "\n",
              "    .dataframe thead th {\n",
              "        text-align: right;\n",
              "    }\n",
              "</style>\n",
              "<table border=\"1\" class=\"dataframe\">\n",
              "  <thead>\n",
              "    <tr style=\"text-align: right;\">\n",
              "      <th></th>\n",
              "      <th>ds</th>\n",
              "      <th>trend</th>\n",
              "      <th>yhat_lower</th>\n",
              "      <th>yhat_upper</th>\n",
              "      <th>trend_lower</th>\n",
              "      <th>trend_upper</th>\n",
              "      <th>additive_terms</th>\n",
              "      <th>additive_terms_lower</th>\n",
              "      <th>additive_terms_upper</th>\n",
              "      <th>yearly</th>\n",
              "      <th>yearly_lower</th>\n",
              "      <th>yearly_upper</th>\n",
              "      <th>multiplicative_terms</th>\n",
              "      <th>multiplicative_terms_lower</th>\n",
              "      <th>multiplicative_terms_upper</th>\n",
              "      <th>yhat</th>\n",
              "    </tr>\n",
              "  </thead>\n",
              "  <tbody>\n",
              "    <tr>\n",
              "      <th>0</th>\n",
              "      <td>1981-01-31</td>\n",
              "      <td>167.046946</td>\n",
              "      <td>168.273689</td>\n",
              "      <td>250.679427</td>\n",
              "      <td>167.046946</td>\n",
              "      <td>167.046946</td>\n",
              "      <td>41.710430</td>\n",
              "      <td>41.710430</td>\n",
              "      <td>41.710430</td>\n",
              "      <td>41.710430</td>\n",
              "      <td>41.710430</td>\n",
              "      <td>41.710430</td>\n",
              "      <td>0.0</td>\n",
              "      <td>0.0</td>\n",
              "      <td>0.0</td>\n",
              "      <td>208.757376</td>\n",
              "    </tr>\n",
              "    <tr>\n",
              "      <th>1</th>\n",
              "      <td>1981-02-28</td>\n",
              "      <td>172.311610</td>\n",
              "      <td>94.318187</td>\n",
              "      <td>179.644637</td>\n",
              "      <td>172.311610</td>\n",
              "      <td>172.311610</td>\n",
              "      <td>-34.651425</td>\n",
              "      <td>-34.651425</td>\n",
              "      <td>-34.651425</td>\n",
              "      <td>-34.651425</td>\n",
              "      <td>-34.651425</td>\n",
              "      <td>-34.651425</td>\n",
              "      <td>0.0</td>\n",
              "      <td>0.0</td>\n",
              "      <td>0.0</td>\n",
              "      <td>137.660185</td>\n",
              "    </tr>\n",
              "    <tr>\n",
              "      <th>2</th>\n",
              "      <td>1981-03-31</td>\n",
              "      <td>178.140344</td>\n",
              "      <td>153.259040</td>\n",
              "      <td>237.117295</td>\n",
              "      <td>178.140344</td>\n",
              "      <td>178.140344</td>\n",
              "      <td>17.147723</td>\n",
              "      <td>17.147723</td>\n",
              "      <td>17.147723</td>\n",
              "      <td>17.147723</td>\n",
              "      <td>17.147723</td>\n",
              "      <td>17.147723</td>\n",
              "      <td>0.0</td>\n",
              "      <td>0.0</td>\n",
              "      <td>0.0</td>\n",
              "      <td>195.288067</td>\n",
              "    </tr>\n",
              "    <tr>\n",
              "      <th>3</th>\n",
              "      <td>1981-04-30</td>\n",
              "      <td>183.781055</td>\n",
              "      <td>86.716183</td>\n",
              "      <td>168.647925</td>\n",
              "      <td>183.781055</td>\n",
              "      <td>183.781055</td>\n",
              "      <td>-55.493167</td>\n",
              "      <td>-55.493167</td>\n",
              "      <td>-55.493167</td>\n",
              "      <td>-55.493167</td>\n",
              "      <td>-55.493167</td>\n",
              "      <td>-55.493167</td>\n",
              "      <td>0.0</td>\n",
              "      <td>0.0</td>\n",
              "      <td>0.0</td>\n",
              "      <td>128.287889</td>\n",
              "    </tr>\n",
              "    <tr>\n",
              "      <th>4</th>\n",
              "      <td>1981-05-31</td>\n",
              "      <td>189.609790</td>\n",
              "      <td>193.377675</td>\n",
              "      <td>277.329430</td>\n",
              "      <td>189.609790</td>\n",
              "      <td>189.609790</td>\n",
              "      <td>41.710430</td>\n",
              "      <td>41.710430</td>\n",
              "      <td>41.710430</td>\n",
              "      <td>41.710430</td>\n",
              "      <td>41.710430</td>\n",
              "      <td>41.710430</td>\n",
              "      <td>0.0</td>\n",
              "      <td>0.0</td>\n",
              "      <td>0.0</td>\n",
              "      <td>231.320220</td>\n",
              "    </tr>\n",
              "  </tbody>\n",
              "</table>\n",
              "</div>"
            ],
            "text/plain": [
              "          ds       trend  ...  multiplicative_terms_upper        yhat\n",
              "0 1981-01-31  167.046946  ...                         0.0  208.757376\n",
              "1 1981-02-28  172.311610  ...                         0.0  137.660185\n",
              "2 1981-03-31  178.140344  ...                         0.0  195.288067\n",
              "3 1981-04-30  183.781055  ...                         0.0  128.287889\n",
              "4 1981-05-31  189.609790  ...                         0.0  231.320220\n",
              "\n",
              "[5 rows x 16 columns]"
            ]
          },
          "metadata": {
            "tags": []
          },
          "execution_count": 19
        }
      ]
    },
    {
      "cell_type": "markdown",
      "metadata": {
        "id": "n8tHEACIaEEA",
        "colab_type": "text"
      },
      "source": [
        "Trend and Seasonality"
      ]
    },
    {
      "cell_type": "code",
      "metadata": {
        "id": "orY7BC8mXR7Z",
        "colab_type": "code",
        "outputId": "e7ee2671-88d8-42a5-bd84-f3c735527def",
        "colab": {
          "base_uri": "https://localhost:8080/",
          "height": 437
        }
      },
      "source": [
        "fig_decompose = m.plot_components(forecast)"
      ],
      "execution_count": 0,
      "outputs": [
        {
          "output_type": "display_data",
          "data": {
            "image/png": "[encoded data removed]",
            "text/plain": [
              "<Figure size 648x432 with 2 Axes>"
            ]
          },
          "metadata": {
            "tags": []
          }
        }
      ]
    },
    {
      "cell_type": "markdown",
      "metadata": {
        "id": "kqchPubhaIxA",
        "colab_type": "text"
      },
      "source": [
        "The seasonality looks over-fitting"
      ]
    },
    {
      "cell_type": "markdown",
      "metadata": {
        "id": "L61xF5UOXsRk",
        "colab_type": "text"
      },
      "source": [
        "## ORDER 1\n"
      ]
    },
    {
      "cell_type": "code",
      "metadata": {
        "id": "TaTu4s_OXqdH",
        "colab_type": "code",
        "outputId": "1d78872e-7f0f-45de-fba8-cee837e25ba7",
        "colab": {
          "base_uri": "https://localhost:8080/",
          "height": 245
        }
      },
      "source": [
        "m2 = Prophet(weekly_seasonality=False, daily_seasonality=False, n_changepoints=2)\n",
        "m2.add_seasonality(name='yearly', period=12, fourier_order=1)\n",
        "\n",
        "m2.fit(train)\n",
        "future2 = m2.make_future_dataframe(periods=12, freq='m')\n",
        "forecast2 = m2.predict(future2)\n",
        "forecast2[['ds', 'yhat', 'yhat_lower', 'yhat_upper']].tail()"
      ],
      "execution_count": 0,
      "outputs": [
        {
          "output_type": "stream",
          "text": [
            "INFO:fbprophet:Found custom seasonality named \"yearly\", disabling built-in yearly seasonality.\n"
          ],
          "name": "stderr"
        },
        {
          "output_type": "execute_result",
          "data": {
            "text/html": [
              "<div>\n",
              "<style scoped>\n",
              "    .dataframe tbody tr th:only-of-type {\n",
              "        vertical-align: middle;\n",
              "    }\n",
              "\n",
              "    .dataframe tbody tr th {\n",
              "        vertical-align: top;\n",
              "    }\n",
              "\n",
              "    .dataframe thead th {\n",
              "        text-align: right;\n",
              "    }\n",
              "</style>\n",
              "<table border=\"1\" class=\"dataframe\">\n",
              "  <thead>\n",
              "    <tr style=\"text-align: right;\">\n",
              "      <th></th>\n",
              "      <th>ds</th>\n",
              "      <th>yhat</th>\n",
              "      <th>yhat_lower</th>\n",
              "      <th>yhat_upper</th>\n",
              "    </tr>\n",
              "  </thead>\n",
              "  <tbody>\n",
              "    <tr>\n",
              "      <th>31</th>\n",
              "      <td>1983-08-31</td>\n",
              "      <td>327.794146</td>\n",
              "      <td>272.321399</td>\n",
              "      <td>382.370681</td>\n",
              "    </tr>\n",
              "    <tr>\n",
              "      <th>32</th>\n",
              "      <td>1983-09-30</td>\n",
              "      <td>421.522374</td>\n",
              "      <td>364.864524</td>\n",
              "      <td>481.352220</td>\n",
              "    </tr>\n",
              "    <tr>\n",
              "      <th>33</th>\n",
              "      <td>1983-10-31</td>\n",
              "      <td>332.180064</td>\n",
              "      <td>274.949111</td>\n",
              "      <td>386.880748</td>\n",
              "    </tr>\n",
              "    <tr>\n",
              "      <th>34</th>\n",
              "      <td>1983-11-30</td>\n",
              "      <td>446.480341</td>\n",
              "      <td>386.992420</td>\n",
              "      <td>506.649030</td>\n",
              "    </tr>\n",
              "    <tr>\n",
              "      <th>35</th>\n",
              "      <td>1983-12-31</td>\n",
              "      <td>350.912594</td>\n",
              "      <td>293.144678</td>\n",
              "      <td>406.762131</td>\n",
              "    </tr>\n",
              "  </tbody>\n",
              "</table>\n",
              "</div>"
            ],
            "text/plain": [
              "           ds        yhat  yhat_lower  yhat_upper\n",
              "31 1983-08-31  327.794146  272.321399  382.370681\n",
              "32 1983-09-30  421.522374  364.864524  481.352220\n",
              "33 1983-10-31  332.180064  274.949111  386.880748\n",
              "34 1983-11-30  446.480341  386.992420  506.649030\n",
              "35 1983-12-31  350.912594  293.144678  406.762131"
            ]
          },
          "metadata": {
            "tags": []
          },
          "execution_count": 23
        }
      ]
    },
    {
      "cell_type": "code",
      "metadata": {
        "id": "AbBNNFRUXx7b",
        "colab_type": "code",
        "outputId": "4469d90f-3274-4a6f-b9d8-79fd92ee3785",
        "colab": {
          "base_uri": "https://localhost:8080/",
          "height": 437
        }
      },
      "source": [
        "fig2 = m2.plot(forecast2)"
      ],
      "execution_count": 0,
      "outputs": [
        {
          "output_type": "display_data",
          "data": {
            "image/png": "[encoded data removed]",
            "text/plain": [
              "<Figure size 720x432 with 1 Axes>"
            ]
          },
          "metadata": {
            "tags": []
          }
        }
      ]
    },
    {
      "cell_type": "markdown",
      "metadata": {
        "id": "aeefrGPVaVso",
        "colab_type": "text"
      },
      "source": [
        "Trend and Seasonality"
      ]
    },
    {
      "cell_type": "code",
      "metadata": {
        "id": "gntSJf2iX0of",
        "colab_type": "code",
        "outputId": "d4acbb40-6a02-4362-bdf2-5454e6b8423d",
        "colab": {
          "base_uri": "https://localhost:8080/",
          "height": 437
        }
      },
      "source": [
        "fig2_decompose = m2.plot_components(forecast2)"
      ],
      "execution_count": 0,
      "outputs": [
        {
          "output_type": "display_data",
          "data": {
            "image/png": "[encoded data removed]",
            "text/plain": [
              "<Figure size 648x432 with 2 Axes>"
            ]
          },
          "metadata": {
            "tags": []
          }
        }
      ]
    },
    {
      "cell_type": "markdown",
      "metadata": {
        "id": "t-Tst2juX-hw",
        "colab_type": "text"
      },
      "source": [
        "## Performance Metrics order 5"
      ]
    },
    {
      "cell_type": "markdown",
      "metadata": {
        "id": "DOBVGDGTaxWx",
        "colab_type": "text"
      },
      "source": [
        "Create a cutoff column so Prophet knows when to compare predicted values to actual values."
      ]
    },
    {
      "cell_type": "code",
      "metadata": {
        "id": "9-4I3aXNYCQa",
        "colab_type": "code",
        "outputId": "a0726605-76bb-4730-9788-39ef8508752f",
        "colab": {
          "base_uri": "https://localhost:8080/",
          "height": 36
        }
      },
      "source": [
        "forecast['cutoff'] = pd.to_datetime('1980-12-31')\n",
        "forecast['y'] = df['y']\n",
        "forecast.shape"
      ],
      "execution_count": 0,
      "outputs": [
        {
          "output_type": "execute_result",
          "data": {
            "text/plain": [
              "(36, 18)"
            ]
          },
          "metadata": {
            "tags": []
          },
          "execution_count": 39
        }
      ]
    },
    {
      "cell_type": "code",
      "metadata": {
        "id": "sXvHf34TYP62",
        "colab_type": "code",
        "outputId": "7cd8b927-6310-4e0b-d1e2-e2f21bf44a43",
        "colab": {
          "base_uri": "https://localhost:8080/",
          "height": 206
        }
      },
      "source": [
        "df_p = performance_metrics(forecast)\n",
        "df_p.head()"
      ],
      "execution_count": 0,
      "outputs": [
        {
          "output_type": "execute_result",
          "data": {
            "text/html": [
              "<div>\n",
              "<style scoped>\n",
              "    .dataframe tbody tr th:only-of-type {\n",
              "        vertical-align: middle;\n",
              "    }\n",
              "\n",
              "    .dataframe tbody tr th {\n",
              "        vertical-align: top;\n",
              "    }\n",
              "\n",
              "    .dataframe thead th {\n",
              "        text-align: right;\n",
              "    }\n",
              "</style>\n",
              "<table border=\"1\" class=\"dataframe\">\n",
              "  <thead>\n",
              "    <tr style=\"text-align: right;\">\n",
              "      <th></th>\n",
              "      <th>horizon</th>\n",
              "      <th>mse</th>\n",
              "      <th>rmse</th>\n",
              "      <th>mae</th>\n",
              "      <th>mape</th>\n",
              "      <th>coverage</th>\n",
              "    </tr>\n",
              "  </thead>\n",
              "  <tbody>\n",
              "    <tr>\n",
              "      <th>0</th>\n",
              "      <td>90 days</td>\n",
              "      <td>1164.387172</td>\n",
              "      <td>34.123118</td>\n",
              "      <td>25.890169</td>\n",
              "      <td>0.112746</td>\n",
              "      <td>0.666667</td>\n",
              "    </tr>\n",
              "    <tr>\n",
              "      <th>1</th>\n",
              "      <td>120 days</td>\n",
              "      <td>99.075226</td>\n",
              "      <td>9.953654</td>\n",
              "      <td>9.805257</td>\n",
              "      <td>0.066126</td>\n",
              "      <td>1.000000</td>\n",
              "    </tr>\n",
              "    <tr>\n",
              "      <th>2</th>\n",
              "      <td>151 days</td>\n",
              "      <td>944.131319</td>\n",
              "      <td>30.726720</td>\n",
              "      <td>24.065392</td>\n",
              "      <td>0.141626</td>\n",
              "      <td>0.666667</td>\n",
              "    </tr>\n",
              "    <tr>\n",
              "      <th>3</th>\n",
              "      <td>181 days</td>\n",
              "      <td>939.391660</td>\n",
              "      <td>30.649497</td>\n",
              "      <td>23.866064</td>\n",
              "      <td>0.142365</td>\n",
              "      <td>0.666667</td>\n",
              "    </tr>\n",
              "    <tr>\n",
              "      <th>4</th>\n",
              "      <td>212 days</td>\n",
              "      <td>913.518707</td>\n",
              "      <td>30.224472</td>\n",
              "      <td>21.462955</td>\n",
              "      <td>0.119810</td>\n",
              "      <td>0.666667</td>\n",
              "    </tr>\n",
              "  </tbody>\n",
              "</table>\n",
              "</div>"
            ],
            "text/plain": [
              "   horizon          mse       rmse        mae      mape  coverage\n",
              "0  90 days  1164.387172  34.123118  25.890169  0.112746  0.666667\n",
              "1 120 days    99.075226   9.953654   9.805257  0.066126  1.000000\n",
              "2 151 days   944.131319  30.726720  24.065392  0.141626  0.666667\n",
              "3 181 days   939.391660  30.649497  23.866064  0.142365  0.666667\n",
              "4 212 days   913.518707  30.224472  21.462955  0.119810  0.666667"
            ]
          },
          "metadata": {
            "tags": []
          },
          "execution_count": 29
        }
      ]
    },
    {
      "cell_type": "markdown",
      "metadata": {
        "id": "vxmyg5NQYiSg",
        "colab_type": "text"
      },
      "source": [
        "## Performance Metrics order 1"
      ]
    },
    {
      "cell_type": "markdown",
      "metadata": {
        "id": "kNvmnw6Wa0Qg",
        "colab_type": "text"
      },
      "source": [
        "Create a cutoff column so Prophet knows when to compare predicted values to actual values."
      ]
    },
    {
      "cell_type": "code",
      "metadata": {
        "id": "QqYD2vxSYVF5",
        "colab_type": "code",
        "outputId": "64a0d1a7-5351-4933-f65d-4f46bfa9982f",
        "colab": {
          "base_uri": "https://localhost:8080/",
          "height": 36
        }
      },
      "source": [
        "forecast2['cutoff'] = pd.to_datetime('1980-12-31')\n",
        "forecast2['y'] = df['y']\n",
        "forecast2.shape"
      ],
      "execution_count": 0,
      "outputs": [
        {
          "output_type": "execute_result",
          "data": {
            "text/plain": [
              "(36, 18)"
            ]
          },
          "metadata": {
            "tags": []
          },
          "execution_count": 40
        }
      ]
    },
    {
      "cell_type": "code",
      "metadata": {
        "id": "RxI4JnNBYb-c",
        "colab_type": "code",
        "outputId": "76c7f64e-e574-4a10-a7ff-10c83795bd38",
        "colab": {
          "base_uri": "https://localhost:8080/",
          "height": 206
        }
      },
      "source": [
        "df_p2 = performance_metrics(forecast2)\n",
        "df_p2.head()"
      ],
      "execution_count": 0,
      "outputs": [
        {
          "output_type": "execute_result",
          "data": {
            "text/html": [
              "<div>\n",
              "<style scoped>\n",
              "    .dataframe tbody tr th:only-of-type {\n",
              "        vertical-align: middle;\n",
              "    }\n",
              "\n",
              "    .dataframe tbody tr th {\n",
              "        vertical-align: top;\n",
              "    }\n",
              "\n",
              "    .dataframe thead th {\n",
              "        text-align: right;\n",
              "    }\n",
              "</style>\n",
              "<table border=\"1\" class=\"dataframe\">\n",
              "  <thead>\n",
              "    <tr style=\"text-align: right;\">\n",
              "      <th></th>\n",
              "      <th>horizon</th>\n",
              "      <th>mse</th>\n",
              "      <th>rmse</th>\n",
              "      <th>mae</th>\n",
              "      <th>mape</th>\n",
              "      <th>coverage</th>\n",
              "    </tr>\n",
              "  </thead>\n",
              "  <tbody>\n",
              "    <tr>\n",
              "      <th>0</th>\n",
              "      <td>90 days</td>\n",
              "      <td>2089.362123</td>\n",
              "      <td>45.709541</td>\n",
              "      <td>30.952021</td>\n",
              "      <td>0.129994</td>\n",
              "      <td>0.666667</td>\n",
              "    </tr>\n",
              "    <tr>\n",
              "      <th>1</th>\n",
              "      <td>120 days</td>\n",
              "      <td>259.221376</td>\n",
              "      <td>16.100353</td>\n",
              "      <td>13.264475</td>\n",
              "      <td>0.102337</td>\n",
              "      <td>1.000000</td>\n",
              "    </tr>\n",
              "    <tr>\n",
              "      <th>2</th>\n",
              "      <td>151 days</td>\n",
              "      <td>653.990815</td>\n",
              "      <td>25.573244</td>\n",
              "      <td>21.517475</td>\n",
              "      <td>0.143082</td>\n",
              "      <td>1.000000</td>\n",
              "    </tr>\n",
              "    <tr>\n",
              "      <th>3</th>\n",
              "      <td>181 days</td>\n",
              "      <td>975.377621</td>\n",
              "      <td>31.231036</td>\n",
              "      <td>30.900262</td>\n",
              "      <td>0.199247</td>\n",
              "      <td>1.000000</td>\n",
              "    </tr>\n",
              "    <tr>\n",
              "      <th>4</th>\n",
              "      <td>212 days</td>\n",
              "      <td>795.345551</td>\n",
              "      <td>28.201871</td>\n",
              "      <td>25.750334</td>\n",
              "      <td>0.142852</td>\n",
              "      <td>1.000000</td>\n",
              "    </tr>\n",
              "  </tbody>\n",
              "</table>\n",
              "</div>"
            ],
            "text/plain": [
              "   horizon          mse       rmse        mae      mape  coverage\n",
              "0  90 days  2089.362123  45.709541  30.952021  0.129994  0.666667\n",
              "1 120 days   259.221376  16.100353  13.264475  0.102337  1.000000\n",
              "2 151 days   653.990815  25.573244  21.517475  0.143082  1.000000\n",
              "3 181 days   975.377621  31.231036  30.900262  0.199247  1.000000\n",
              "4 212 days   795.345551  28.201871  25.750334  0.142852  1.000000"
            ]
          },
          "metadata": {
            "tags": []
          },
          "execution_count": 31
        }
      ]
    },
    {
      "cell_type": "markdown",
      "metadata": {
        "id": "LBqbANyMYsz5",
        "colab_type": "text"
      },
      "source": [
        "## Compare error terms from the two predictions"
      ]
    },
    {
      "cell_type": "code",
      "metadata": {
        "id": "Z1B0h6_NYlTI",
        "colab_type": "code",
        "colab": {}
      },
      "source": [
        "df_p.index = df_p['horizon']\n",
        "df_p2.index = df_p2['horizon']"
      ],
      "execution_count": 0,
      "outputs": []
    },
    {
      "cell_type": "code",
      "metadata": {
        "id": "p18ABwzBmDlC",
        "colab_type": "code",
        "colab": {
          "base_uri": "https://localhost:8080/",
          "height": 394
        },
        "outputId": "765a93c6-032a-4b14-e54d-b4bb98305bf2"
      },
      "source": [
        "df_error_compare = df_p - df_p2\n",
        "df_error_compare = df_error_compare.drop(columns=['horizon', 'coverage'])\n",
        "df_error_compare.loc[:'365 days']"
      ],
      "execution_count": 42,
      "outputs": [
        {
          "output_type": "execute_result",
          "data": {
            "text/html": [
              "<div>\n",
              "<style scoped>\n",
              "    .dataframe tbody tr th:only-of-type {\n",
              "        vertical-align: middle;\n",
              "    }\n",
              "\n",
              "    .dataframe tbody tr th {\n",
              "        vertical-align: top;\n",
              "    }\n",
              "\n",
              "    .dataframe thead th {\n",
              "        text-align: right;\n",
              "    }\n",
              "</style>\n",
              "<table border=\"1\" class=\"dataframe\">\n",
              "  <thead>\n",
              "    <tr style=\"text-align: right;\">\n",
              "      <th></th>\n",
              "      <th>mse</th>\n",
              "      <th>rmse</th>\n",
              "      <th>mae</th>\n",
              "      <th>mape</th>\n",
              "    </tr>\n",
              "    <tr>\n",
              "      <th>horizon</th>\n",
              "      <th></th>\n",
              "      <th></th>\n",
              "      <th></th>\n",
              "      <th></th>\n",
              "    </tr>\n",
              "  </thead>\n",
              "  <tbody>\n",
              "    <tr>\n",
              "      <th>90 days</th>\n",
              "      <td>-924.974951</td>\n",
              "      <td>-11.586423</td>\n",
              "      <td>-5.061852</td>\n",
              "      <td>-0.017248</td>\n",
              "    </tr>\n",
              "    <tr>\n",
              "      <th>120 days</th>\n",
              "      <td>-160.146150</td>\n",
              "      <td>-6.146699</td>\n",
              "      <td>-3.459218</td>\n",
              "      <td>-0.036211</td>\n",
              "    </tr>\n",
              "    <tr>\n",
              "      <th>151 days</th>\n",
              "      <td>290.140503</td>\n",
              "      <td>5.153476</td>\n",
              "      <td>2.547917</td>\n",
              "      <td>-0.001456</td>\n",
              "    </tr>\n",
              "    <tr>\n",
              "      <th>181 days</th>\n",
              "      <td>-35.985962</td>\n",
              "      <td>-0.581539</td>\n",
              "      <td>-7.034199</td>\n",
              "      <td>-0.056882</td>\n",
              "    </tr>\n",
              "    <tr>\n",
              "      <th>212 days</th>\n",
              "      <td>118.173156</td>\n",
              "      <td>2.022601</td>\n",
              "      <td>-4.287379</td>\n",
              "      <td>-0.023042</td>\n",
              "    </tr>\n",
              "    <tr>\n",
              "      <th>243 days</th>\n",
              "      <td>-2140.159996</td>\n",
              "      <td>-32.644723</td>\n",
              "      <td>-26.706143</td>\n",
              "      <td>-0.128262</td>\n",
              "    </tr>\n",
              "    <tr>\n",
              "      <th>273 days</th>\n",
              "      <td>-1206.946301</td>\n",
              "      <td>-11.782897</td>\n",
              "      <td>-15.271429</td>\n",
              "      <td>-0.064064</td>\n",
              "    </tr>\n",
              "    <tr>\n",
              "      <th>304 days</th>\n",
              "      <td>-2178.702874</td>\n",
              "      <td>-19.711346</td>\n",
              "      <td>-29.263064</td>\n",
              "      <td>-0.188072</td>\n",
              "    </tr>\n",
              "    <tr>\n",
              "      <th>334 days</th>\n",
              "      <td>-2545.916713</td>\n",
              "      <td>-22.117102</td>\n",
              "      <td>-30.338831</td>\n",
              "      <td>-0.165308</td>\n",
              "    </tr>\n",
              "    <tr>\n",
              "      <th>365 days</th>\n",
              "      <td>-3269.249294</td>\n",
              "      <td>-37.463988</td>\n",
              "      <td>-36.363185</td>\n",
              "      <td>-0.196772</td>\n",
              "    </tr>\n",
              "  </tbody>\n",
              "</table>\n",
              "</div>"
            ],
            "text/plain": [
              "                  mse       rmse        mae      mape\n",
              "horizon                                              \n",
              "90 days   -924.974951 -11.586423  -5.061852 -0.017248\n",
              "120 days  -160.146150  -6.146699  -3.459218 -0.036211\n",
              "151 days   290.140503   5.153476   2.547917 -0.001456\n",
              "181 days   -35.985962  -0.581539  -7.034199 -0.056882\n",
              "212 days   118.173156   2.022601  -4.287379 -0.023042\n",
              "243 days -2140.159996 -32.644723 -26.706143 -0.128262\n",
              "273 days -1206.946301 -11.782897 -15.271429 -0.064064\n",
              "304 days -2178.702874 -19.711346 -29.263064 -0.188072\n",
              "334 days -2545.916713 -22.117102 -30.338831 -0.165308\n",
              "365 days -3269.249294 -37.463988 -36.363185 -0.196772"
            ]
          },
          "metadata": {
            "tags": []
          },
          "execution_count": 42
        }
      ]
    },
    {
      "cell_type": "code",
      "metadata": {
        "id": "caPhGO-HmEzS",
        "colab_type": "code",
        "colab": {
          "base_uri": "https://localhost:8080/",
          "height": 394
        },
        "outputId": "d139d62c-89f3-4ade-d3ca-6cc931d0c832"
      },
      "source": [
        "df_error_compare = df_p2 - df_p\n",
        "df_error_compare = df_error_compare.drop(columns=['horizon', 'coverage'])\n",
        "df_error_compare.loc[:'365 days']"
      ],
      "execution_count": 43,
      "outputs": [
        {
          "output_type": "execute_result",
          "data": {
            "text/html": [
              "<div>\n",
              "<style scoped>\n",
              "    .dataframe tbody tr th:only-of-type {\n",
              "        vertical-align: middle;\n",
              "    }\n",
              "\n",
              "    .dataframe tbody tr th {\n",
              "        vertical-align: top;\n",
              "    }\n",
              "\n",
              "    .dataframe thead th {\n",
              "        text-align: right;\n",
              "    }\n",
              "</style>\n",
              "<table border=\"1\" class=\"dataframe\">\n",
              "  <thead>\n",
              "    <tr style=\"text-align: right;\">\n",
              "      <th></th>\n",
              "      <th>mse</th>\n",
              "      <th>rmse</th>\n",
              "      <th>mae</th>\n",
              "      <th>mape</th>\n",
              "    </tr>\n",
              "    <tr>\n",
              "      <th>horizon</th>\n",
              "      <th></th>\n",
              "      <th></th>\n",
              "      <th></th>\n",
              "      <th></th>\n",
              "    </tr>\n",
              "  </thead>\n",
              "  <tbody>\n",
              "    <tr>\n",
              "      <th>90 days</th>\n",
              "      <td>924.974951</td>\n",
              "      <td>11.586423</td>\n",
              "      <td>5.061852</td>\n",
              "      <td>0.017248</td>\n",
              "    </tr>\n",
              "    <tr>\n",
              "      <th>120 days</th>\n",
              "      <td>160.146150</td>\n",
              "      <td>6.146699</td>\n",
              "      <td>3.459218</td>\n",
              "      <td>0.036211</td>\n",
              "    </tr>\n",
              "    <tr>\n",
              "      <th>151 days</th>\n",
              "      <td>-290.140503</td>\n",
              "      <td>-5.153476</td>\n",
              "      <td>-2.547917</td>\n",
              "      <td>0.001456</td>\n",
              "    </tr>\n",
              "    <tr>\n",
              "      <th>181 days</th>\n",
              "      <td>35.985962</td>\n",
              "      <td>0.581539</td>\n",
              "      <td>7.034199</td>\n",
              "      <td>0.056882</td>\n",
              "    </tr>\n",
              "    <tr>\n",
              "      <th>212 days</th>\n",
              "      <td>-118.173156</td>\n",
              "      <td>-2.022601</td>\n",
              "      <td>4.287379</td>\n",
              "      <td>0.023042</td>\n",
              "    </tr>\n",
              "    <tr>\n",
              "      <th>243 days</th>\n",
              "      <td>2140.159996</td>\n",
              "      <td>32.644723</td>\n",
              "      <td>26.706143</td>\n",
              "      <td>0.128262</td>\n",
              "    </tr>\n",
              "    <tr>\n",
              "      <th>273 days</th>\n",
              "      <td>1206.946301</td>\n",
              "      <td>11.782897</td>\n",
              "      <td>15.271429</td>\n",
              "      <td>0.064064</td>\n",
              "    </tr>\n",
              "    <tr>\n",
              "      <th>304 days</th>\n",
              "      <td>2178.702874</td>\n",
              "      <td>19.711346</td>\n",
              "      <td>29.263064</td>\n",
              "      <td>0.188072</td>\n",
              "    </tr>\n",
              "    <tr>\n",
              "      <th>334 days</th>\n",
              "      <td>2545.916713</td>\n",
              "      <td>22.117102</td>\n",
              "      <td>30.338831</td>\n",
              "      <td>0.165308</td>\n",
              "    </tr>\n",
              "    <tr>\n",
              "      <th>365 days</th>\n",
              "      <td>3269.249294</td>\n",
              "      <td>37.463988</td>\n",
              "      <td>36.363185</td>\n",
              "      <td>0.196772</td>\n",
              "    </tr>\n",
              "  </tbody>\n",
              "</table>\n",
              "</div>"
            ],
            "text/plain": [
              "                  mse       rmse        mae      mape\n",
              "horizon                                              \n",
              "90 days    924.974951  11.586423   5.061852  0.017248\n",
              "120 days   160.146150   6.146699   3.459218  0.036211\n",
              "151 days  -290.140503  -5.153476  -2.547917  0.001456\n",
              "181 days    35.985962   0.581539   7.034199  0.056882\n",
              "212 days  -118.173156  -2.022601   4.287379  0.023042\n",
              "243 days  2140.159996  32.644723  26.706143  0.128262\n",
              "273 days  1206.946301  11.782897  15.271429  0.064064\n",
              "304 days  2178.702874  19.711346  29.263064  0.188072\n",
              "334 days  2545.916713  22.117102  30.338831  0.165308\n",
              "365 days  3269.249294  37.463988  36.363185  0.196772"
            ]
          },
          "metadata": {
            "tags": []
          },
          "execution_count": 43
        }
      ]
    },
    {
      "cell_type": "markdown",
      "metadata": {
        "id": "dImgIHaBYyfQ",
        "colab_type": "text"
      },
      "source": [
        "The negative numbers means that the second model (Fourier term equal to 1) had larger error terms. So, in this case, the (Fourier term equal 5) model performed better.\n"
      ]
    },
    {
      "cell_type": "markdown",
      "metadata": {
        "id": "0S71mMAKkQrc",
        "colab_type": "text"
      },
      "source": [
        "## A persistence forecast\n",
        "* A prediction (training data) of the final sales term would continue each month going forward.\n",
        "* Second Prophet model forecast compared to a persistence forecast\n",
        "* repeat cutoff date and yhat value\n"
      ]
    },
    {
      "cell_type": "code",
      "metadata": {
        "id": "HLcRlcsNY61R",
        "colab_type": "code",
        "outputId": "9b0651c4-c4f9-4a2d-f834-d4e983199060",
        "colab": {
          "base_uri": "https://localhost:8080/",
          "height": 226
        }
      },
      "source": [
        "forecast_persist = forecast2.copy()\n",
        "forecast_persist['cutoff'] = pd.to_datetime('1980-12-31')\n",
        "forecast_persist['y'] = df['y']\n",
        "forecast_persist['yhat'] = df.at[23,'y']\n",
        "forecast_persist.tail()"
      ],
      "execution_count": 50,
      "outputs": [
        {
          "output_type": "execute_result",
          "data": {
            "text/html": [
              "<div>\n",
              "<style scoped>\n",
              "    .dataframe tbody tr th:only-of-type {\n",
              "        vertical-align: middle;\n",
              "    }\n",
              "\n",
              "    .dataframe tbody tr th {\n",
              "        vertical-align: top;\n",
              "    }\n",
              "\n",
              "    .dataframe thead th {\n",
              "        text-align: right;\n",
              "    }\n",
              "</style>\n",
              "<table border=\"1\" class=\"dataframe\">\n",
              "  <thead>\n",
              "    <tr style=\"text-align: right;\">\n",
              "      <th></th>\n",
              "      <th>ds</th>\n",
              "      <th>trend</th>\n",
              "      <th>yhat_lower</th>\n",
              "      <th>yhat_upper</th>\n",
              "      <th>trend_lower</th>\n",
              "      <th>trend_upper</th>\n",
              "      <th>additive_terms</th>\n",
              "      <th>additive_terms_lower</th>\n",
              "      <th>additive_terms_upper</th>\n",
              "      <th>yearly</th>\n",
              "      <th>yearly_lower</th>\n",
              "      <th>yearly_upper</th>\n",
              "      <th>multiplicative_terms</th>\n",
              "      <th>multiplicative_terms_lower</th>\n",
              "      <th>multiplicative_terms_upper</th>\n",
              "      <th>yhat</th>\n",
              "      <th>cutoff</th>\n",
              "      <th>y</th>\n",
              "    </tr>\n",
              "  </thead>\n",
              "  <tbody>\n",
              "    <tr>\n",
              "      <th>31</th>\n",
              "      <td>1983-08-31</td>\n",
              "      <td>371.050405</td>\n",
              "      <td>272.321399</td>\n",
              "      <td>382.370681</td>\n",
              "      <td>371.050404</td>\n",
              "      <td>371.050406</td>\n",
              "      <td>-43.256259</td>\n",
              "      <td>-43.256259</td>\n",
              "      <td>-43.256259</td>\n",
              "      <td>-43.256259</td>\n",
              "      <td>-43.256259</td>\n",
              "      <td>-43.256259</td>\n",
              "      <td>0.0</td>\n",
              "      <td>0.0</td>\n",
              "      <td>0.0</td>\n",
              "      <td>342.3</td>\n",
              "      <td>1980-12-31</td>\n",
              "      <td>407.6</td>\n",
              "    </tr>\n",
              "    <tr>\n",
              "      <th>32</th>\n",
              "      <td>1983-09-30</td>\n",
              "      <td>378.266115</td>\n",
              "      <td>364.864524</td>\n",
              "      <td>481.352220</td>\n",
              "      <td>378.266113</td>\n",
              "      <td>378.266116</td>\n",
              "      <td>43.256259</td>\n",
              "      <td>43.256259</td>\n",
              "      <td>43.256259</td>\n",
              "      <td>43.256259</td>\n",
              "      <td>43.256259</td>\n",
              "      <td>43.256259</td>\n",
              "      <td>0.0</td>\n",
              "      <td>0.0</td>\n",
              "      <td>0.0</td>\n",
              "      <td>342.3</td>\n",
              "      <td>1980-12-31</td>\n",
              "      <td>682.0</td>\n",
              "    </tr>\n",
              "    <tr>\n",
              "      <th>33</th>\n",
              "      <td>1983-10-31</td>\n",
              "      <td>385.722348</td>\n",
              "      <td>274.949111</td>\n",
              "      <td>386.880748</td>\n",
              "      <td>385.722346</td>\n",
              "      <td>385.722349</td>\n",
              "      <td>-53.542284</td>\n",
              "      <td>-53.542284</td>\n",
              "      <td>-53.542284</td>\n",
              "      <td>-53.542284</td>\n",
              "      <td>-53.542284</td>\n",
              "      <td>-53.542284</td>\n",
              "      <td>0.0</td>\n",
              "      <td>0.0</td>\n",
              "      <td>0.0</td>\n",
              "      <td>342.3</td>\n",
              "      <td>1980-12-31</td>\n",
              "      <td>475.3</td>\n",
              "    </tr>\n",
              "    <tr>\n",
              "      <th>34</th>\n",
              "      <td>1983-11-30</td>\n",
              "      <td>392.938057</td>\n",
              "      <td>386.992420</td>\n",
              "      <td>506.649030</td>\n",
              "      <td>392.938055</td>\n",
              "      <td>392.938059</td>\n",
              "      <td>53.542284</td>\n",
              "      <td>53.542284</td>\n",
              "      <td>53.542284</td>\n",
              "      <td>53.542284</td>\n",
              "      <td>53.542284</td>\n",
              "      <td>53.542284</td>\n",
              "      <td>0.0</td>\n",
              "      <td>0.0</td>\n",
              "      <td>0.0</td>\n",
              "      <td>342.3</td>\n",
              "      <td>1980-12-31</td>\n",
              "      <td>581.3</td>\n",
              "    </tr>\n",
              "    <tr>\n",
              "      <th>35</th>\n",
              "      <td>1983-12-31</td>\n",
              "      <td>400.394290</td>\n",
              "      <td>293.144678</td>\n",
              "      <td>406.762131</td>\n",
              "      <td>400.394288</td>\n",
              "      <td>400.394292</td>\n",
              "      <td>-49.481696</td>\n",
              "      <td>-49.481696</td>\n",
              "      <td>-49.481696</td>\n",
              "      <td>-49.481696</td>\n",
              "      <td>-49.481696</td>\n",
              "      <td>-49.481696</td>\n",
              "      <td>0.0</td>\n",
              "      <td>0.0</td>\n",
              "      <td>0.0</td>\n",
              "      <td>342.3</td>\n",
              "      <td>1980-12-31</td>\n",
              "      <td>646.9</td>\n",
              "    </tr>\n",
              "  </tbody>\n",
              "</table>\n",
              "</div>"
            ],
            "text/plain": [
              "           ds       trend  yhat_lower  ...   yhat     cutoff      y\n",
              "31 1983-08-31  371.050405  272.321399  ...  342.3 1980-12-31  407.6\n",
              "32 1983-09-30  378.266115  364.864524  ...  342.3 1980-12-31  682.0\n",
              "33 1983-10-31  385.722348  274.949111  ...  342.3 1980-12-31  475.3\n",
              "34 1983-11-30  392.938057  386.992420  ...  342.3 1980-12-31  581.3\n",
              "35 1983-12-31  400.394290  293.144678  ...  342.3 1980-12-31  646.9\n",
              "\n",
              "[5 rows x 18 columns]"
            ]
          },
          "metadata": {
            "tags": []
          },
          "execution_count": 50
        }
      ]
    },
    {
      "cell_type": "code",
      "metadata": {
        "id": "x8mcXyeGZKhh",
        "colab_type": "code",
        "outputId": "c3367470-718e-447c-f306-e752eb646044",
        "colab": {
          "base_uri": "https://localhost:8080/",
          "height": 206
        }
      },
      "source": [
        "df_persist = performance_metrics(forecast_persist)\n",
        "df_persist.head()"
      ],
      "execution_count": 0,
      "outputs": [
        {
          "output_type": "execute_result",
          "data": {
            "text/html": [
              "<div>\n",
              "<style scoped>\n",
              "    .dataframe tbody tr th:only-of-type {\n",
              "        vertical-align: middle;\n",
              "    }\n",
              "\n",
              "    .dataframe tbody tr th {\n",
              "        vertical-align: top;\n",
              "    }\n",
              "\n",
              "    .dataframe thead th {\n",
              "        text-align: right;\n",
              "    }\n",
              "</style>\n",
              "<table border=\"1\" class=\"dataframe\">\n",
              "  <thead>\n",
              "    <tr style=\"text-align: right;\">\n",
              "      <th></th>\n",
              "      <th>horizon</th>\n",
              "      <th>mse</th>\n",
              "      <th>rmse</th>\n",
              "      <th>mae</th>\n",
              "      <th>mape</th>\n",
              "      <th>coverage</th>\n",
              "    </tr>\n",
              "  </thead>\n",
              "  <tbody>\n",
              "    <tr>\n",
              "      <th>0</th>\n",
              "      <td>90 days</td>\n",
              "      <td>23246.430000</td>\n",
              "      <td>152.467800</td>\n",
              "      <td>143.966667</td>\n",
              "      <td>0.834147</td>\n",
              "      <td>0.666667</td>\n",
              "    </tr>\n",
              "    <tr>\n",
              "      <th>1</th>\n",
              "      <td>120 days</td>\n",
              "      <td>37882.200000</td>\n",
              "      <td>194.633502</td>\n",
              "      <td>192.866667</td>\n",
              "      <td>1.361612</td>\n",
              "      <td>1.000000</td>\n",
              "    </tr>\n",
              "    <tr>\n",
              "      <th>2</th>\n",
              "      <td>151 days</td>\n",
              "      <td>33772.546667</td>\n",
              "      <td>183.773085</td>\n",
              "      <td>181.400000</td>\n",
              "      <td>1.212403</td>\n",
              "      <td>1.000000</td>\n",
              "    </tr>\n",
              "    <tr>\n",
              "      <th>3</th>\n",
              "      <td>181 days</td>\n",
              "      <td>35393.146667</td>\n",
              "      <td>188.130664</td>\n",
              "      <td>186.266667</td>\n",
              "      <td>1.266398</td>\n",
              "      <td>1.000000</td>\n",
              "    </tr>\n",
              "    <tr>\n",
              "      <th>4</th>\n",
              "      <td>212 days</td>\n",
              "      <td>22886.896667</td>\n",
              "      <td>151.284159</td>\n",
              "      <td>148.766667</td>\n",
              "      <td>0.802220</td>\n",
              "      <td>1.000000</td>\n",
              "    </tr>\n",
              "  </tbody>\n",
              "</table>\n",
              "</div>"
            ],
            "text/plain": [
              "   horizon           mse        rmse         mae      mape  coverage\n",
              "0  90 days  23246.430000  152.467800  143.966667  0.834147  0.666667\n",
              "1 120 days  37882.200000  194.633502  192.866667  1.361612  1.000000\n",
              "2 151 days  33772.546667  183.773085  181.400000  1.212403  1.000000\n",
              "3 181 days  35393.146667  188.130664  186.266667  1.266398  1.000000\n",
              "4 212 days  22886.896667  151.284159  148.766667  0.802220  1.000000"
            ]
          },
          "metadata": {
            "tags": []
          },
          "execution_count": 34
        }
      ]
    },
    {
      "cell_type": "code",
      "metadata": {
        "id": "B6kPqqAXZRpJ",
        "colab_type": "code",
        "outputId": "cc024aa8-bba1-431a-9761-96e21af5f08d",
        "colab": {
          "base_uri": "https://localhost:8080/",
          "height": 394
        }
      },
      "source": [
        "df_persist.index = df_persist['horizon']\n",
        "\n",
        "df_error_compare_persist = df_persist - df_p2\n",
        "df_error_compare_persist = df_error_compare_persist.drop(columns=['horizon', 'coverage'])\n",
        "df_error_compare_persist.loc[:'365 days']"
      ],
      "execution_count": 0,
      "outputs": [
        {
          "output_type": "execute_result",
          "data": {
            "text/html": [
              "<div>\n",
              "<style scoped>\n",
              "    .dataframe tbody tr th:only-of-type {\n",
              "        vertical-align: middle;\n",
              "    }\n",
              "\n",
              "    .dataframe tbody tr th {\n",
              "        vertical-align: top;\n",
              "    }\n",
              "\n",
              "    .dataframe thead th {\n",
              "        text-align: right;\n",
              "    }\n",
              "</style>\n",
              "<table border=\"1\" class=\"dataframe\">\n",
              "  <thead>\n",
              "    <tr style=\"text-align: right;\">\n",
              "      <th></th>\n",
              "      <th>mse</th>\n",
              "      <th>rmse</th>\n",
              "      <th>mae</th>\n",
              "      <th>mape</th>\n",
              "    </tr>\n",
              "    <tr>\n",
              "      <th>horizon</th>\n",
              "      <th></th>\n",
              "      <th></th>\n",
              "      <th></th>\n",
              "      <th></th>\n",
              "    </tr>\n",
              "  </thead>\n",
              "  <tbody>\n",
              "    <tr>\n",
              "      <th>90 days</th>\n",
              "      <td>21157.067877</td>\n",
              "      <td>106.758259</td>\n",
              "      <td>113.014646</td>\n",
              "      <td>0.704153</td>\n",
              "    </tr>\n",
              "    <tr>\n",
              "      <th>120 days</th>\n",
              "      <td>37622.978624</td>\n",
              "      <td>178.533148</td>\n",
              "      <td>179.602191</td>\n",
              "      <td>1.259274</td>\n",
              "    </tr>\n",
              "    <tr>\n",
              "      <th>151 days</th>\n",
              "      <td>33118.555851</td>\n",
              "      <td>158.199841</td>\n",
              "      <td>159.882525</td>\n",
              "      <td>1.069322</td>\n",
              "    </tr>\n",
              "    <tr>\n",
              "      <th>181 days</th>\n",
              "      <td>34417.769045</td>\n",
              "      <td>156.899628</td>\n",
              "      <td>155.366405</td>\n",
              "      <td>1.067150</td>\n",
              "    </tr>\n",
              "    <tr>\n",
              "      <th>212 days</th>\n",
              "      <td>22091.551116</td>\n",
              "      <td>123.082287</td>\n",
              "      <td>123.016333</td>\n",
              "      <td>0.659368</td>\n",
              "    </tr>\n",
              "    <tr>\n",
              "      <th>243 days</th>\n",
              "      <td>16353.510287</td>\n",
              "      <td>87.881680</td>\n",
              "      <td>94.210556</td>\n",
              "      <td>0.485302</td>\n",
              "    </tr>\n",
              "    <tr>\n",
              "      <th>273 days</th>\n",
              "      <td>12884.516402</td>\n",
              "      <td>69.958572</td>\n",
              "      <td>76.722235</td>\n",
              "      <td>0.359040</td>\n",
              "    </tr>\n",
              "    <tr>\n",
              "      <th>304 days</th>\n",
              "      <td>23880.422141</td>\n",
              "      <td>102.572748</td>\n",
              "      <td>97.914448</td>\n",
              "      <td>0.659847</td>\n",
              "    </tr>\n",
              "    <tr>\n",
              "      <th>334 days</th>\n",
              "      <td>18798.877471</td>\n",
              "      <td>84.705173</td>\n",
              "      <td>57.758407</td>\n",
              "      <td>0.521097</td>\n",
              "    </tr>\n",
              "    <tr>\n",
              "      <th>365 days</th>\n",
              "      <td>20321.065818</td>\n",
              "      <td>93.232773</td>\n",
              "      <td>68.951393</td>\n",
              "      <td>0.587091</td>\n",
              "    </tr>\n",
              "  </tbody>\n",
              "</table>\n",
              "</div>"
            ],
            "text/plain": [
              "                   mse        rmse         mae      mape\n",
              "horizon                                                 \n",
              "90 days   21157.067877  106.758259  113.014646  0.704153\n",
              "120 days  37622.978624  178.533148  179.602191  1.259274\n",
              "151 days  33118.555851  158.199841  159.882525  1.069322\n",
              "181 days  34417.769045  156.899628  155.366405  1.067150\n",
              "212 days  22091.551116  123.082287  123.016333  0.659368\n",
              "243 days  16353.510287   87.881680   94.210556  0.485302\n",
              "273 days  12884.516402   69.958572   76.722235  0.359040\n",
              "304 days  23880.422141  102.572748   97.914448  0.659847\n",
              "334 days  18798.877471   84.705173   57.758407  0.521097\n",
              "365 days  20321.065818   93.232773   68.951393  0.587091"
            ]
          },
          "metadata": {
            "tags": []
          },
          "execution_count": 35
        }
      ]
    },
    {
      "cell_type": "markdown",
      "metadata": {
        "id": "zXuVbqRCn9ta",
        "colab_type": "text"
      },
      "source": [
        "Those numbers are all positive, meaning that the error terms were larger for the persistence model than for the Prophet model"
      ]
    }
  ]
}